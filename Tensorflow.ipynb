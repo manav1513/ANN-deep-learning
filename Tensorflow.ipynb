{
  "nbformat": 4,
  "nbformat_minor": 0,
  "metadata": {
    "kernelspec": {
      "display_name": "Python 3",
      "language": "python",
      "name": "python3"
    },
    "language_info": {
      "codemirror_mode": {
        "name": "ipython",
        "version": 3
      },
      "file_extension": ".py",
      "mimetype": "text/x-python",
      "name": "python",
      "nbconvert_exporter": "python",
      "pygments_lexer": "ipython3",
      "version": "3.7.6"
    },
    "colab": {
      "provenance": [],
      "gpuType": "T4"
    },
    "accelerator": "GPU",
    "gpuClass": "standard"
  },
  "cells": [
    {
      "cell_type": "code",
      "metadata": {
        "id": "I5KQX6jwo6kY",
        "outputId": "298b922d-58c1-4d9c-9e96-37631326e3e2",
        "colab": {
          "base_uri": "https://localhost:8080/",
          "height": 158
        }
      },
      "source": [
        "m = tf.constant(42)\n",
        "m"
      ],
      "execution_count": 1,
      "outputs": [
        {
          "output_type": "error",
          "ename": "NameError",
          "evalue": "name 'tf' is not defined",
          "traceback": [
            "\u001b[0;31m---------------------------------------------------------------------------\u001b[0m",
            "\u001b[0;31mNameError\u001b[0m                                 Traceback (most recent call last)",
            "\u001b[0;32m<ipython-input-1-84ca2855036e>\u001b[0m in \u001b[0;36m<cell line: 1>\u001b[0;34m()\u001b[0m\n\u001b[0;32m----> 1\u001b[0;31m \u001b[0mm\u001b[0m \u001b[0;34m=\u001b[0m \u001b[0mtf\u001b[0m\u001b[0;34m.\u001b[0m\u001b[0mconstant\u001b[0m\u001b[0;34m(\u001b[0m\u001b[0;36m42\u001b[0m\u001b[0;34m)\u001b[0m\u001b[0;34m\u001b[0m\u001b[0;34m\u001b[0m\u001b[0m\n\u001b[0m\u001b[1;32m      2\u001b[0m \u001b[0mm\u001b[0m\u001b[0;34m\u001b[0m\u001b[0;34m\u001b[0m\u001b[0m\n",
            "\u001b[0;31mNameError\u001b[0m: name 'tf' is not defined"
          ]
        }
      ]
    },
    {
      "cell_type": "code",
      "metadata": {
        "id": "I0aysDFSo6kf",
        "outputId": "24bd5967-bdfc-4040-fe90-4547bcfdfe71",
        "colab": {
          "base_uri": "https://localhost:8080/"
        }
      },
      "source": [
        "ineuron.numpy()"
      ],
      "execution_count": null,
      "outputs": [
        {
          "output_type": "execute_result",
          "data": {
            "text/plain": [
              "42"
            ]
          },
          "metadata": {},
          "execution_count": 8
        }
      ]
    },
    {
      "cell_type": "code",
      "source": [
        "pip install tensorflow"
      ],
      "metadata": {
        "colab": {
          "base_uri": "https://localhost:8080/"
        },
        "id": "uxjfR8iFLJvv",
        "outputId": "abdaf72e-df56-4a34-b244-eba5bdbe5fb2"
      },
      "execution_count": 2,
      "outputs": [
        {
          "output_type": "stream",
          "name": "stdout",
          "text": [
            "Requirement already satisfied: tensorflow in /usr/local/lib/python3.10/dist-packages (2.15.0)\n",
            "Requirement already satisfied: absl-py>=1.0.0 in /usr/local/lib/python3.10/dist-packages (from tensorflow) (1.4.0)\n",
            "Requirement already satisfied: astunparse>=1.6.0 in /usr/local/lib/python3.10/dist-packages (from tensorflow) (1.6.3)\n",
            "Requirement already satisfied: flatbuffers>=23.5.26 in /usr/local/lib/python3.10/dist-packages (from tensorflow) (24.3.25)\n",
            "Requirement already satisfied: gast!=0.5.0,!=0.5.1,!=0.5.2,>=0.2.1 in /usr/local/lib/python3.10/dist-packages (from tensorflow) (0.6.0)\n",
            "Requirement already satisfied: google-pasta>=0.1.1 in /usr/local/lib/python3.10/dist-packages (from tensorflow) (0.2.0)\n",
            "Requirement already satisfied: h5py>=2.9.0 in /usr/local/lib/python3.10/dist-packages (from tensorflow) (3.9.0)\n",
            "Requirement already satisfied: libclang>=13.0.0 in /usr/local/lib/python3.10/dist-packages (from tensorflow) (18.1.1)\n",
            "Requirement already satisfied: ml-dtypes~=0.2.0 in /usr/local/lib/python3.10/dist-packages (from tensorflow) (0.2.0)\n",
            "Requirement already satisfied: numpy<2.0.0,>=1.23.5 in /usr/local/lib/python3.10/dist-packages (from tensorflow) (1.25.2)\n",
            "Requirement already satisfied: opt-einsum>=2.3.2 in /usr/local/lib/python3.10/dist-packages (from tensorflow) (3.3.0)\n",
            "Requirement already satisfied: packaging in /usr/local/lib/python3.10/dist-packages (from tensorflow) (24.1)\n",
            "Requirement already satisfied: protobuf!=4.21.0,!=4.21.1,!=4.21.2,!=4.21.3,!=4.21.4,!=4.21.5,<5.0.0dev,>=3.20.3 in /usr/local/lib/python3.10/dist-packages (from tensorflow) (3.20.3)\n",
            "Requirement already satisfied: setuptools in /usr/local/lib/python3.10/dist-packages (from tensorflow) (67.7.2)\n",
            "Requirement already satisfied: six>=1.12.0 in /usr/local/lib/python3.10/dist-packages (from tensorflow) (1.16.0)\n",
            "Requirement already satisfied: termcolor>=1.1.0 in /usr/local/lib/python3.10/dist-packages (from tensorflow) (2.4.0)\n",
            "Requirement already satisfied: typing-extensions>=3.6.6 in /usr/local/lib/python3.10/dist-packages (from tensorflow) (4.12.2)\n",
            "Requirement already satisfied: wrapt<1.15,>=1.11.0 in /usr/local/lib/python3.10/dist-packages (from tensorflow) (1.14.1)\n",
            "Requirement already satisfied: tensorflow-io-gcs-filesystem>=0.23.1 in /usr/local/lib/python3.10/dist-packages (from tensorflow) (0.37.0)\n",
            "Requirement already satisfied: grpcio<2.0,>=1.24.3 in /usr/local/lib/python3.10/dist-packages (from tensorflow) (1.64.1)\n",
            "Requirement already satisfied: tensorboard<2.16,>=2.15 in /usr/local/lib/python3.10/dist-packages (from tensorflow) (2.15.2)\n",
            "Requirement already satisfied: tensorflow-estimator<2.16,>=2.15.0 in /usr/local/lib/python3.10/dist-packages (from tensorflow) (2.15.0)\n",
            "Requirement already satisfied: keras<2.16,>=2.15.0 in /usr/local/lib/python3.10/dist-packages (from tensorflow) (2.15.0)\n",
            "Requirement already satisfied: wheel<1.0,>=0.23.0 in /usr/local/lib/python3.10/dist-packages (from astunparse>=1.6.0->tensorflow) (0.43.0)\n",
            "Requirement already satisfied: google-auth<3,>=1.6.3 in /usr/local/lib/python3.10/dist-packages (from tensorboard<2.16,>=2.15->tensorflow) (2.27.0)\n",
            "Requirement already satisfied: google-auth-oauthlib<2,>=0.5 in /usr/local/lib/python3.10/dist-packages (from tensorboard<2.16,>=2.15->tensorflow) (1.2.0)\n",
            "Requirement already satisfied: markdown>=2.6.8 in /usr/local/lib/python3.10/dist-packages (from tensorboard<2.16,>=2.15->tensorflow) (3.6)\n",
            "Requirement already satisfied: requests<3,>=2.21.0 in /usr/local/lib/python3.10/dist-packages (from tensorboard<2.16,>=2.15->tensorflow) (2.31.0)\n",
            "Requirement already satisfied: tensorboard-data-server<0.8.0,>=0.7.0 in /usr/local/lib/python3.10/dist-packages (from tensorboard<2.16,>=2.15->tensorflow) (0.7.2)\n",
            "Requirement already satisfied: werkzeug>=1.0.1 in /usr/local/lib/python3.10/dist-packages (from tensorboard<2.16,>=2.15->tensorflow) (3.0.3)\n",
            "Requirement already satisfied: cachetools<6.0,>=2.0.0 in /usr/local/lib/python3.10/dist-packages (from google-auth<3,>=1.6.3->tensorboard<2.16,>=2.15->tensorflow) (5.3.3)\n",
            "Requirement already satisfied: pyasn1-modules>=0.2.1 in /usr/local/lib/python3.10/dist-packages (from google-auth<3,>=1.6.3->tensorboard<2.16,>=2.15->tensorflow) (0.4.0)\n",
            "Requirement already satisfied: rsa<5,>=3.1.4 in /usr/local/lib/python3.10/dist-packages (from google-auth<3,>=1.6.3->tensorboard<2.16,>=2.15->tensorflow) (4.9)\n",
            "Requirement already satisfied: requests-oauthlib>=0.7.0 in /usr/local/lib/python3.10/dist-packages (from google-auth-oauthlib<2,>=0.5->tensorboard<2.16,>=2.15->tensorflow) (1.3.1)\n",
            "Requirement already satisfied: charset-normalizer<4,>=2 in /usr/local/lib/python3.10/dist-packages (from requests<3,>=2.21.0->tensorboard<2.16,>=2.15->tensorflow) (3.3.2)\n",
            "Requirement already satisfied: idna<4,>=2.5 in /usr/local/lib/python3.10/dist-packages (from requests<3,>=2.21.0->tensorboard<2.16,>=2.15->tensorflow) (3.7)\n",
            "Requirement already satisfied: urllib3<3,>=1.21.1 in /usr/local/lib/python3.10/dist-packages (from requests<3,>=2.21.0->tensorboard<2.16,>=2.15->tensorflow) (2.0.7)\n",
            "Requirement already satisfied: certifi>=2017.4.17 in /usr/local/lib/python3.10/dist-packages (from requests<3,>=2.21.0->tensorboard<2.16,>=2.15->tensorflow) (2024.6.2)\n",
            "Requirement already satisfied: MarkupSafe>=2.1.1 in /usr/local/lib/python3.10/dist-packages (from werkzeug>=1.0.1->tensorboard<2.16,>=2.15->tensorflow) (2.1.5)\n",
            "Requirement already satisfied: pyasn1<0.7.0,>=0.4.6 in /usr/local/lib/python3.10/dist-packages (from pyasn1-modules>=0.2.1->google-auth<3,>=1.6.3->tensorboard<2.16,>=2.15->tensorflow) (0.6.0)\n",
            "Requirement already satisfied: oauthlib>=3.0.0 in /usr/local/lib/python3.10/dist-packages (from requests-oauthlib>=0.7.0->google-auth-oauthlib<2,>=0.5->tensorboard<2.16,>=2.15->tensorflow) (3.2.2)\n"
          ]
        }
      ]
    },
    {
      "cell_type": "code",
      "metadata": {
        "id": "U7Zu1JwTo6ki",
        "outputId": "47bbac21-281f-4c46-9719-595a9df65a79",
        "colab": {
          "base_uri": "https://localhost:8080/"
        }
      },
      "source": [
        "ineuron1 = tf.constant(1, dtype = tf.int64)\n",
        "ineuron1"
      ],
      "execution_count": null,
      "outputs": [
        {
          "output_type": "execute_result",
          "data": {
            "text/plain": [
              "<tf.Tensor: shape=(), dtype=int64, numpy=1>"
            ]
          },
          "metadata": {},
          "execution_count": 9
        }
      ]
    },
    {
      "cell_type": "code",
      "metadata": {
        "id": "jxjR2bsro6kl",
        "outputId": "0928904e-6429-47aa-aa97-2f0b3b4ab4f3",
        "colab": {
          "base_uri": "https://localhost:8080/"
        }
      },
      "source": [
        "ineuron_x = tf.constant([[4,2],[9,5]])\n",
        "print(ineuron_x)"
      ],
      "execution_count": null,
      "outputs": [
        {
          "output_type": "stream",
          "name": "stdout",
          "text": [
            "tf.Tensor(\n",
            "[[4 2]\n",
            " [9 5]], shape=(2, 2), dtype=int32)\n"
          ]
        }
      ]
    },
    {
      "cell_type": "code",
      "metadata": {
        "id": "xl5lq0R4o6kp",
        "outputId": "19f2416b-88a1-401f-c306-088f2759c7f2",
        "colab": {
          "base_uri": "https://localhost:8080/"
        }
      },
      "source": [
        "ineuron_x.numpy()"
      ],
      "execution_count": null,
      "outputs": [
        {
          "output_type": "execute_result",
          "data": {
            "text/plain": [
              "array([[4, 2],\n",
              "       [9, 5]], dtype=int32)"
            ]
          },
          "metadata": {},
          "execution_count": 11
        }
      ]
    },
    {
      "cell_type": "code",
      "metadata": {
        "id": "k4mHx-xko6kx",
        "outputId": "5db612af-64c7-4e2e-8070-d419957c3070",
        "colab": {
          "base_uri": "https://localhost:8080/"
        }
      },
      "source": [
        "print('shape:',ineuron_x.shape)\n",
        "print(ineuron_x.dtype)"
      ],
      "execution_count": null,
      "outputs": [
        {
          "output_type": "stream",
          "name": "stdout",
          "text": [
            "shape: (2, 2)\n",
            "<dtype: 'int32'>\n"
          ]
        }
      ]
    },
    {
      "cell_type": "markdown",
      "metadata": {
        "id": "SSoA-E_Wo6k0"
      },
      "source": [
        "#### Commonly used method is to generate constant tf.ones and the tf.zeros like of numpy np.ones & np.zeros"
      ]
    },
    {
      "cell_type": "code",
      "metadata": {
        "id": "K2LrUAAOo6k1",
        "outputId": "f9c6a07c-4ad0-4130-905a-dd074fa2fc7c",
        "colab": {
          "base_uri": "https://localhost:8080/"
        }
      },
      "source": [
        "print(tf.ones(shape=(2,3)))"
      ],
      "execution_count": null,
      "outputs": [
        {
          "output_type": "stream",
          "name": "stdout",
          "text": [
            "tf.Tensor(\n",
            "[[1. 1. 1.]\n",
            " [1. 1. 1.]], shape=(2, 3), dtype=float32)\n"
          ]
        }
      ]
    },
    {
      "cell_type": "code",
      "metadata": {
        "id": "skUuY3nPo6lE",
        "outputId": "9782ffbf-51bf-442b-d6dd-471a59df424d",
        "colab": {
          "base_uri": "https://localhost:8080/"
        }
      },
      "source": [
        "print(tf.zeros(shape=(3,2)))"
      ],
      "execution_count": null,
      "outputs": [
        {
          "output_type": "stream",
          "name": "stdout",
          "text": [
            "tf.Tensor(\n",
            "[[0. 0.]\n",
            " [0. 0.]\n",
            " [0. 0.]], shape=(3, 2), dtype=float32)\n"
          ]
        }
      ]
    },
    {
      "cell_type": "code",
      "metadata": {
        "id": "2uSrMwmLo6lN",
        "outputId": "7308a8cc-9966-46d2-f3ab-0be48f788745",
        "colab": {
          "base_uri": "https://localhost:8080/"
        }
      },
      "source": [
        "import tensorflow as tf\n",
        "\n",
        "const2 = tf.constant([[3,4,5], [3,4,5]])\n",
        "const1 = tf.constant([[1,2,3], [1,2,3]])\n",
        "result = tf.add(const1, const2)\n",
        "\n",
        "print(result)"
      ],
      "execution_count": null,
      "outputs": [
        {
          "output_type": "stream",
          "name": "stdout",
          "text": [
            "tf.Tensor(\n",
            "[[4 6 8]\n",
            " [4 6 8]], shape=(2, 3), dtype=int32)\n"
          ]
        }
      ]
    },
    {
      "cell_type": "markdown",
      "metadata": {
        "id": "oIVzyT_so6lR"
      },
      "source": [
        ">We have defined two constants and we add one value to the other.\n",
        ">As a result, we got a Tensor object with the result of the adding."
      ]
    },
    {
      "cell_type": "markdown",
      "metadata": {
        "id": "A6SYhN59o6lS"
      },
      "source": [
        "#### Random constant"
      ]
    },
    {
      "cell_type": "code",
      "metadata": {
        "id": "51uGW1Ebo6lT",
        "outputId": "3ccb29a4-aa95-4430-ccc0-3065cc0caca8",
        "colab": {
          "base_uri": "https://localhost:8080/"
        }
      },
      "source": [
        "tf.random.normal(shape=(2,2),mean=0,stddev=1.0)"
      ],
      "execution_count": null,
      "outputs": [
        {
          "output_type": "execute_result",
          "data": {
            "text/plain": [
              "<tf.Tensor: shape=(2, 2), dtype=float32, numpy=\n",
              "array([[-0.37854993,  0.7752413 ],\n",
              "       [ 1.4218645 ,  1.1185031 ]], dtype=float32)>"
            ]
          },
          "metadata": {},
          "execution_count": 17
        }
      ]
    },
    {
      "cell_type": "code",
      "metadata": {
        "id": "eWpjuF8co6l1",
        "outputId": "9c0fd86b-762d-4f95-b134-c808c694993c",
        "colab": {
          "base_uri": "https://localhost:8080/"
        }
      },
      "source": [
        "tf.random.uniform(shape=(2,2),minval=0,maxval=10,dtype=tf.int32)"
      ],
      "execution_count": null,
      "outputs": [
        {
          "output_type": "execute_result",
          "data": {
            "text/plain": [
              "<tf.Tensor: shape=(2, 2), dtype=int32, numpy=\n",
              "array([[7, 6],\n",
              "       [7, 3]], dtype=int32)>"
            ]
          },
          "metadata": {},
          "execution_count": 18
        }
      ]
    },
    {
      "cell_type": "code",
      "metadata": {
        "id": "2nyoFHjko6mA",
        "outputId": "2018a9da-9e67-4504-9566-9a6c808bc15a",
        "colab": {
          "base_uri": "https://localhost:8080/"
        }
      },
      "source": [
        "var0 = 24 # python variable\n",
        "var1 = tf.Variable(42) # rank 0 tensor\n",
        "var2 = tf.Variable([ [ [0., 1., 2.], [3., 4., 5.] ], [ [6., 7., 8.], [9., 10., 11.] ] ]) #rank 3 tensor\n",
        "var0, var1, var2"
      ],
      "execution_count": null,
      "outputs": [
        {
          "output_type": "execute_result",
          "data": {
            "text/plain": [
              "(24,\n",
              " <tf.Variable 'Variable:0' shape=() dtype=int32, numpy=42>,\n",
              " <tf.Variable 'Variable:0' shape=(2, 2, 3) dtype=float32, numpy=\n",
              " array([[[ 0.,  1.,  2.],\n",
              "         [ 3.,  4.,  5.]],\n",
              " \n",
              "        [[ 6.,  7.,  8.],\n",
              "         [ 9., 10., 11.]]], dtype=float32)>)"
            ]
          },
          "metadata": {},
          "execution_count": 19
        }
      ]
    },
    {
      "cell_type": "code",
      "metadata": {
        "id": "zU0WznZ8o6mH",
        "outputId": "d2599af3-655e-425c-abe9-c3befe423474",
        "colab": {
          "base_uri": "https://localhost:8080/"
        }
      },
      "source": [
        "float_var64 = tf.Variable(89, dtype = tf.float64)\n",
        "float_var64.dtype"
      ],
      "execution_count": null,
      "outputs": [
        {
          "output_type": "execute_result",
          "data": {
            "text/plain": [
              "tf.float64"
            ]
          },
          "metadata": {},
          "execution_count": 20
        }
      ]
    },
    {
      "cell_type": "markdown",
      "metadata": {
        "id": "9eaa5NI7o6mL"
      },
      "source": [
        "`TensorFlow has a large number of built-in datatypes.`\n",
        "\n",
        "datatype | description\n",
        "- | -\n",
        " tf.float16 | 16-bit half-precision floating-point.\n",
        " tf.float32 | 32-bit single-precision floating-point.\n",
        " tf.float64 | 64-bit double-precision floating-point.\n",
        " tf.bfloat16 | 16-bit truncated floating-point.\n",
        " tf.complex64 | 64-bit single-precision complex.\n",
        " tf.complex128 | 128-bit double-precision complex.\n",
        " tf.int8 | 8-bit signed integer.\n",
        " tf.uint8 | 8-bit unsigned integer.\n",
        " tf.uint16 | 16-bit unsigned integer.\n",
        " tf.uint32 | 32-bit unsigned integer.\n",
        " tf.uint64 | 64-bit unsigned integer.\n",
        " tf.int16 | 16-bit signed integer.\n",
        " tf.int32 | 32-bit signed integer.\n",
        " tf.int64 | 64-bit signed integer.\n",
        " tf.bool | Boolean.\n",
        " tf.string | String.\n",
        " tf.qint8 | Quantized 8-bit signed integer.\n",
        " tf.quint8 | Quantized 8-bit unsigned integer.\n",
        " tf.qint16 | Quantized 16-bit signed integer.\n",
        " tf.quint16 | Quantized 16-bit unsigned integer.\n",
        " tf.qint32 | Quantized 32-bit signed integer.\n",
        " tf.resource | Handle to a mutable resource.\n",
        " tf.variant | Values of arbitrary types.\n"
      ]
    },
    {
      "cell_type": "markdown",
      "metadata": {
        "id": "ahjlKCGbo6mL"
      },
      "source": [
        "#### To reassign a variable, use var.assign()"
      ]
    },
    {
      "cell_type": "code",
      "metadata": {
        "id": "O0UBJk1jo6mM",
        "outputId": "13e47e07-00a3-49ef-fd0c-c2e98f67d66b",
        "colab": {
          "base_uri": "https://localhost:8080/"
        }
      },
      "source": [
        "var_reassign = tf.Variable(89.)\n",
        "var_reassign"
      ],
      "execution_count": null,
      "outputs": [
        {
          "output_type": "execute_result",
          "data": {
            "text/plain": [
              "<tf.Variable 'Variable:0' shape=() dtype=float32, numpy=89.0>"
            ]
          },
          "metadata": {},
          "execution_count": 21
        }
      ]
    },
    {
      "cell_type": "code",
      "metadata": {
        "id": "muEfqqppo6mP",
        "outputId": "49e1bf9e-a068-4cbe-b5d5-a9c106647ffc",
        "colab": {
          "base_uri": "https://localhost:8080/"
        }
      },
      "source": [
        "var_reassign.assign(98.)\n",
        "var_reassign"
      ],
      "execution_count": null,
      "outputs": [
        {
          "output_type": "execute_result",
          "data": {
            "text/plain": [
              "<tf.Variable 'Variable:0' shape=() dtype=float32, numpy=98.0>"
            ]
          },
          "metadata": {},
          "execution_count": 22
        }
      ]
    },
    {
      "cell_type": "code",
      "metadata": {
        "id": "JtjYtaqOo6mX",
        "outputId": "0b02a0e9-e37e-4865-e461-7a6b1c7a06e0",
        "colab": {
          "base_uri": "https://localhost:8080/"
        }
      },
      "source": [
        "initial_value = tf.random.normal(shape=(2,2))\n",
        "a = tf.Variable(initial_value)\n",
        "print(a)"
      ],
      "execution_count": null,
      "outputs": [
        {
          "output_type": "stream",
          "name": "stdout",
          "text": [
            "<tf.Variable 'Variable:0' shape=(2, 2) dtype=float32, numpy=\n",
            "array([[ 1.007538  ,  0.90166533],\n",
            "       [-1.1097176 , -1.9102186 ]], dtype=float32)>\n"
          ]
        }
      ]
    },
    {
      "cell_type": "markdown",
      "metadata": {
        "id": "lmh4YqXfo6md"
      },
      "source": [
        ">We can assign \"=\" with assign (value), or assign_add (value) with \"+ =\", or assign_sub (value) with \"-=\""
      ]
    },
    {
      "cell_type": "code",
      "metadata": {
        "id": "ILD0iFJFo6me"
      },
      "source": [
        "new_value = tf.random.normal(shape=(2, 2))\n",
        "a.assign(new_value)\n",
        "for i in range(2):\n",
        "    for j in range(2):\n",
        "        assert a[i, j] == new_value[i, j]"
      ],
      "execution_count": null,
      "outputs": []
    },
    {
      "cell_type": "code",
      "metadata": {
        "id": "HE6oNyQ0o6mi"
      },
      "source": [
        "added_value = tf.random.normal(shape=(2,2))\n",
        "a.assign_add(added_value)\n",
        "for i in range(2):\n",
        "    for j in range(2):\n",
        "        assert a[i,j] == new_value[i,j]+added_value[i,j]"
      ],
      "execution_count": null,
      "outputs": []
    },
    {
      "cell_type": "code",
      "metadata": {
        "id": "pwoBmXs2o6mm",
        "outputId": "2417dadf-cd01-49db-9f2e-ee78ff3ee7c1",
        "colab": {
          "base_uri": "https://localhost:8080/"
        }
      },
      "source": [
        "tensor = tf.Variable([ [ [0., 1., 2.], [3., 4., 5.] ], [ [6., 7., 8.], [9., 10., 11.] ] ]) # tensor variable\n",
        "print(tensor.shape)"
      ],
      "execution_count": null,
      "outputs": [
        {
          "output_type": "stream",
          "name": "stdout",
          "text": [
            "(2, 2, 3)\n"
          ]
        }
      ]
    },
    {
      "cell_type": "code",
      "metadata": {
        "id": "qw6jdTUUo6mv",
        "outputId": "7dc8c7cc-90d3-49c6-f5ea-6290fe90c0cf",
        "colab": {
          "base_uri": "https://localhost:8080/"
        }
      },
      "source": [
        "tensor1 = tf.reshape(tensor,[2,6]) # 2 rows 6 cols\n",
        "tensor2 = tf.reshape(tensor,[1,12]) # 1 rows 12 cols\n",
        "tensor1"
      ],
      "execution_count": null,
      "outputs": [
        {
          "output_type": "execute_result",
          "data": {
            "text/plain": [
              "<tf.Tensor: shape=(2, 6), dtype=float32, numpy=\n",
              "array([[ 0.,  1.,  2.,  3.,  4.,  5.],\n",
              "       [ 6.,  7.,  8.,  9., 10., 11.]], dtype=float32)>"
            ]
          },
          "metadata": {},
          "execution_count": 27
        }
      ]
    },
    {
      "cell_type": "code",
      "metadata": {
        "id": "95o_Zd2uo6m1",
        "outputId": "79295541-811a-45cd-f2aa-a79daa4f9efa",
        "colab": {
          "base_uri": "https://localhost:8080/"
        }
      },
      "source": [
        "tensor2 = tf.reshape(tensor,[1,12]) # 1 row 12 columns\n",
        "tensor2"
      ],
      "execution_count": null,
      "outputs": [
        {
          "output_type": "execute_result",
          "data": {
            "text/plain": [
              "<tf.Tensor: shape=(1, 12), dtype=float32, numpy=\n",
              "array([[ 0.,  1.,  2.,  3.,  4.,  5.,  6.,  7.,  8.,  9., 10., 11.]],\n",
              "      dtype=float32)>"
            ]
          },
          "metadata": {},
          "execution_count": 28
        }
      ]
    },
    {
      "cell_type": "code",
      "metadata": {
        "id": "QUWZuo0Qo6m7",
        "outputId": "14ee85f9-746b-46cd-bd20-236ae782a9a4",
        "colab": {
          "base_uri": "https://localhost:8080/"
        }
      },
      "source": [
        "tf.rank(tensor)"
      ],
      "execution_count": null,
      "outputs": [
        {
          "output_type": "execute_result",
          "data": {
            "text/plain": [
              "<tf.Tensor: shape=(), dtype=int32, numpy=3>"
            ]
          },
          "metadata": {},
          "execution_count": 29
        }
      ]
    },
    {
      "cell_type": "markdown",
      "metadata": {
        "id": "i2XwSyMwo6nB"
      },
      "source": [
        ">(the shape is () because the output here is a scalar value)"
      ]
    },
    {
      "cell_type": "markdown",
      "metadata": {
        "id": "Z17NN2Ydo6nB"
      },
      "source": [
        "#### Specifying an element of a tensor"
      ]
    },
    {
      "cell_type": "code",
      "metadata": {
        "id": "WZ3iE66do6nC",
        "outputId": "6c279094-0bb6-4484-ae52-acaa701cb9fa",
        "colab": {
          "base_uri": "https://localhost:8080/"
        }
      },
      "source": [
        "tensor3 = tensor[1, 0, 2] # slice 1, row 0, column 2\n",
        "tensor3"
      ],
      "execution_count": null,
      "outputs": [
        {
          "output_type": "execute_result",
          "data": {
            "text/plain": [
              "<tf.Tensor: shape=(), dtype=float32, numpy=8.0>"
            ]
          },
          "metadata": {},
          "execution_count": 30
        }
      ]
    },
    {
      "cell_type": "markdown",
      "metadata": {
        "id": "pt1-bNNoo6nE"
      },
      "source": [
        "#### Casting a tensor to a NumPy/Python variable"
      ]
    },
    {
      "cell_type": "code",
      "metadata": {
        "id": "nf-4wqIDo6nF",
        "outputId": "e5d1736f-bb3d-47f1-be5e-e8cf89fff301",
        "colab": {
          "base_uri": "https://localhost:8080/"
        }
      },
      "source": [
        "print(tensor.numpy())"
      ],
      "execution_count": null,
      "outputs": [
        {
          "output_type": "stream",
          "name": "stdout",
          "text": [
            "[[[ 0.  1.  2.]\n",
            "  [ 3.  4.  5.]]\n",
            "\n",
            " [[ 6.  7.  8.]\n",
            "  [ 9. 10. 11.]]]\n"
          ]
        }
      ]
    },
    {
      "cell_type": "code",
      "metadata": {
        "id": "4BAMBEhBo6nH",
        "outputId": "3c824d23-6258-4ca4-e6fc-36420ecbf14c",
        "colab": {
          "base_uri": "https://localhost:8080/"
        }
      },
      "source": [
        "print(tensor[1, 0, 2].numpy())"
      ],
      "execution_count": null,
      "outputs": [
        {
          "output_type": "stream",
          "name": "stdout",
          "text": [
            "8.0\n"
          ]
        }
      ]
    },
    {
      "cell_type": "markdown",
      "metadata": {
        "id": "ibmUB8KDo6nK"
      },
      "source": [
        "#### Finding the size (number of elements) of a tensor"
      ]
    },
    {
      "cell_type": "code",
      "metadata": {
        "id": "3pzO6SJXo6nK",
        "outputId": "b1944dfc-15ff-4042-b666-c1ab78031478",
        "colab": {
          "base_uri": "https://localhost:8080/"
        }
      },
      "source": [
        "tensor_size = tf.size(input=tensor).numpy()\n",
        "tensor_size"
      ],
      "execution_count": null,
      "outputs": [
        {
          "output_type": "execute_result",
          "data": {
            "text/plain": [
              "12"
            ]
          },
          "metadata": {},
          "execution_count": 33
        }
      ]
    },
    {
      "cell_type": "code",
      "metadata": {
        "id": "1kxI6HVio6nO",
        "outputId": "3ec5a4b3-1378-49c4-d7fa-2b0a98ceb11d",
        "colab": {
          "base_uri": "https://localhost:8080/"
        }
      },
      "source": [
        "#the datatype of a tensor\n",
        "tensor3.dtype"
      ],
      "execution_count": null,
      "outputs": [
        {
          "output_type": "execute_result",
          "data": {
            "text/plain": [
              "tf.float32"
            ]
          },
          "metadata": {},
          "execution_count": 34
        }
      ]
    },
    {
      "cell_type": "markdown",
      "metadata": {
        "id": "fMwV8eiNo6nR"
      },
      "source": [
        "### Tensorflow mathematical operations\n",
        ">Can be used as numpy for artificial operations. Tensorflow can not execute these operations on the GPU or TPU.\n"
      ]
    },
    {
      "cell_type": "code",
      "metadata": {
        "id": "ot2cJT36o6nR",
        "outputId": "762c7e5f-6dc3-44e9-fe76-dad809a834c9",
        "colab": {
          "base_uri": "https://localhost:8080/"
        }
      },
      "source": [
        "a = tf.random.normal(shape=(2,2))\n",
        "b = tf.random.normal(shape=(2,2))\n",
        "c = a+b\n",
        "d = tf.square(c)\n",
        "e = tf.exp(c)\n",
        "print(a)\n",
        "print(b)\n",
        "print(c)\n",
        "print(d)\n",
        "print(e)"
      ],
      "execution_count": null,
      "outputs": [
        {
          "output_type": "stream",
          "name": "stdout",
          "text": [
            "tf.Tensor(\n",
            "[[-0.24671447  0.8228442 ]\n",
            " [ 1.4005157  -0.21337971]], shape=(2, 2), dtype=float32)\n",
            "tf.Tensor(\n",
            "[[-1.0893056  -0.98363787]\n",
            " [-0.5615219  -0.26913118]], shape=(2, 2), dtype=float32)\n",
            "tf.Tensor(\n",
            "[[-1.3360201  -0.16079366]\n",
            " [ 0.8389938  -0.4825109 ]], shape=(2, 2), dtype=float32)\n",
            "tf.Tensor(\n",
            "[[1.7849498  0.0258546 ]\n",
            " [0.7039106  0.23281677]], shape=(2, 2), dtype=float32)\n",
            "tf.Tensor(\n",
            "[[0.26288986 0.8514677 ]\n",
            " [2.3140376  0.61723167]], shape=(2, 2), dtype=float32)\n"
          ]
        }
      ]
    },
    {
      "cell_type": "markdown",
      "metadata": {
        "id": "_r8z7Wbio6nV"
      },
      "source": [
        "### Performing element-wise primitive tensor operations"
      ]
    },
    {
      "cell_type": "code",
      "metadata": {
        "id": "fBk1KI0Oo6nW",
        "outputId": "fdb90210-ea24-491e-daea-ae040cb4bacd",
        "colab": {
          "base_uri": "https://localhost:8080/"
        }
      },
      "source": [
        "tensor*tensor"
      ],
      "execution_count": null,
      "outputs": [
        {
          "output_type": "execute_result",
          "data": {
            "text/plain": [
              "<tf.Tensor: shape=(2, 2, 3), dtype=float32, numpy=\n",
              "array([[[  0.,   1.,   4.],\n",
              "        [  9.,  16.,  25.]],\n",
              "\n",
              "       [[ 36.,  49.,  64.],\n",
              "        [ 81., 100., 121.]]], dtype=float32)>"
            ]
          },
          "metadata": {},
          "execution_count": 36
        }
      ]
    },
    {
      "cell_type": "markdown",
      "metadata": {
        "id": "YRUWm7YIo6na"
      },
      "source": [
        "### Broadcasting\n",
        ">Element-wise tensor operations support broadcasting in the same way that NumPy arrays do.\n",
        "\n",
        ">The simplest example is that of multiplying a tensor by a scalar:"
      ]
    },
    {
      "cell_type": "code",
      "metadata": {
        "id": "8QIOZ2IMo6nb",
        "outputId": "114f0eb4-7df7-4cac-f3db-20166b6e26e9",
        "colab": {
          "base_uri": "https://localhost:8080/"
        }
      },
      "source": [
        "tensor4 = tensor*4\n",
        "print(tensor4)"
      ],
      "execution_count": null,
      "outputs": [
        {
          "output_type": "stream",
          "name": "stdout",
          "text": [
            "tf.Tensor(\n",
            "[[[ 0.  4.  8.]\n",
            "  [12. 16. 20.]]\n",
            "\n",
            " [[24. 28. 32.]\n",
            "  [36. 40. 44.]]], shape=(2, 2, 3), dtype=float32)\n"
          ]
        }
      ]
    },
    {
      "cell_type": "markdown",
      "metadata": {
        "id": "2xTpIwswo6nh"
      },
      "source": [
        ">the scalar multiplier 4 is—conceptually, at least—expanded into an array that can be multiplied element-wise with t2."
      ]
    },
    {
      "cell_type": "markdown",
      "metadata": {
        "id": "iVhv795co6nk"
      },
      "source": [
        "### Transpose Matrix multiplication"
      ]
    },
    {
      "cell_type": "code",
      "metadata": {
        "id": "f6guVJ3uo6nl",
        "outputId": "2faaaa18-83c8-4285-dd21-387cd832f7ee",
        "colab": {
          "base_uri": "https://localhost:8080/"
        }
      },
      "source": [
        "matrix_u = tf.constant([[3,4,3]])\n",
        "matrix_v = tf.constant([[1,2,1]])\n",
        "\n",
        "tf.matmul(matrix_u, tf.transpose(a=matrix_v))"
      ],
      "execution_count": null,
      "outputs": [
        {
          "output_type": "execute_result",
          "data": {
            "text/plain": [
              "<tf.Tensor: shape=(1, 1), dtype=int32, numpy=array([[14]], dtype=int32)>"
            ]
          },
          "metadata": {},
          "execution_count": 38
        }
      ]
    },
    {
      "cell_type": "markdown",
      "metadata": {
        "id": "vY3v8Wu0o6np"
      },
      "source": [
        "### Casting a tensor to another (tensor) datatype"
      ]
    },
    {
      "cell_type": "code",
      "metadata": {
        "id": "RDGETTrwo6nq",
        "outputId": "ebc124bc-e231-4456-ce54-dc8b5db7e54b",
        "colab": {
          "base_uri": "https://localhost:8080/"
        }
      },
      "source": [
        "i = tf.cast(tensor1, dtype=tf.int32)\n",
        "i"
      ],
      "execution_count": null,
      "outputs": [
        {
          "output_type": "execute_result",
          "data": {
            "text/plain": [
              "<tf.Tensor: shape=(2, 6), dtype=int32, numpy=\n",
              "array([[ 0,  1,  2,  3,  4,  5],\n",
              "       [ 6,  7,  8,  9, 10, 11]], dtype=int32)>"
            ]
          },
          "metadata": {},
          "execution_count": 39
        }
      ]
    },
    {
      "cell_type": "markdown",
      "metadata": {
        "id": "xNhy-0Kgo6nu"
      },
      "source": [
        "### With truncation"
      ]
    },
    {
      "cell_type": "code",
      "metadata": {
        "id": "PS_ityxqo6nw",
        "outputId": "2cc95e13-1dfc-4870-9fcc-1d02bd1a66c0",
        "colab": {
          "base_uri": "https://localhost:8080/"
        }
      },
      "source": [
        "j = tf.cast(tf.constant(4.9), dtype=tf.int32)\n",
        "j"
      ],
      "execution_count": null,
      "outputs": [
        {
          "output_type": "execute_result",
          "data": {
            "text/plain": [
              "<tf.Tensor: shape=(), dtype=int32, numpy=4>"
            ]
          },
          "metadata": {},
          "execution_count": 40
        }
      ]
    },
    {
      "cell_type": "markdown",
      "metadata": {
        "id": "s6PEqNR6o6n1"
      },
      "source": [
        "### Declaring Ragged tensors"
      ]
    },
    {
      "cell_type": "markdown",
      "metadata": {
        "id": "9npf2CBio6n2"
      },
      "source": [
        "`A ragged tensor is a tensor with one or more ragged dimensions. Ragged dimensions are dimensions that have slices that may have different lengths.There are a variety of methods for declaring ragged arrays, the simplest being a constant ragged\n",
        "array.`"
      ]
    },
    {
      "cell_type": "markdown",
      "metadata": {
        "id": "IR2LsUFuo6n3"
      },
      "source": [
        "#### The following example shows how to declare a constant ragged array and the lengths of the individual slices:"
      ]
    },
    {
      "cell_type": "code",
      "metadata": {
        "id": "SOwI9mPTo6n4",
        "outputId": "739628c9-088e-4c2c-961c-f4d16f6830c3",
        "colab": {
          "base_uri": "https://localhost:8080/"
        }
      },
      "source": [
        "ragged =tf.ragged.constant([[5, 2, 6, 1], [], [4, 10, 7], [8], [6,7]])\n",
        "\n",
        "print(ragged)\n",
        "print(ragged[0,:])\n",
        "print(ragged[1,:])\n",
        "print(ragged[2,:])\n",
        "print(ragged[3,:])\n",
        "print(ragged[4,:])"
      ],
      "execution_count": null,
      "outputs": [
        {
          "output_type": "stream",
          "name": "stdout",
          "text": [
            "<tf.RaggedTensor [[5, 2, 6, 1], [], [4, 10, 7], [8], [6, 7]]>\n",
            "tf.Tensor([5 2 6 1], shape=(4,), dtype=int32)\n",
            "tf.Tensor([], shape=(0,), dtype=int32)\n",
            "tf.Tensor([ 4 10  7], shape=(3,), dtype=int32)\n",
            "tf.Tensor([8], shape=(1,), dtype=int32)\n",
            "tf.Tensor([6 7], shape=(2,), dtype=int32)\n"
          ]
        }
      ]
    },
    {
      "cell_type": "markdown",
      "metadata": {
        "id": "pnY8DvByo6n9"
      },
      "source": [
        "### Finding the squared difference between two tensors"
      ]
    },
    {
      "cell_type": "code",
      "metadata": {
        "id": "sIBgnVBAo6n9",
        "outputId": "68df0c5f-1c98-40b5-88a4-7cd5251af078",
        "colab": {
          "base_uri": "https://localhost:8080/"
        }
      },
      "source": [
        "varx = [1,3,5,7,11]\n",
        "vary = 5\n",
        "varz = tf.math.squared_difference(varx,vary)\n",
        "varz"
      ],
      "execution_count": null,
      "outputs": [
        {
          "output_type": "execute_result",
          "data": {
            "text/plain": [
              "<tf.Tensor: shape=(5,), dtype=int32, numpy=array([16,  4,  0,  4, 36], dtype=int32)>"
            ]
          },
          "metadata": {},
          "execution_count": 42
        }
      ]
    },
    {
      "cell_type": "markdown",
      "metadata": {
        "id": "XplbzEblo6oB"
      },
      "source": [
        ">The Python variables, varx and vary, are cast into tensors and that vary is then broadcast across varx in this example. So, for example, the first calculation is (1-5)2 = 16."
      ]
    },
    {
      "cell_type": "markdown",
      "metadata": {
        "id": "ojG-K3_oo6oB"
      },
      "source": [
        "#### Finding the mean"
      ]
    },
    {
      "cell_type": "markdown",
      "metadata": {
        "id": "SlSjxOJ1o6oC"
      },
      "source": [
        ">The following is the signature of\n",
        ">tf.reduce_mean()."
      ]
    },
    {
      "cell_type": "markdown",
      "metadata": {
        "id": "z8uPKfCto6oD"
      },
      "source": [
        "`Note that this is equivalent to np.mean, except that it infers the return datatype from the input tensor,\n",
        "whereas np.mean allows you to specify the output type (defaulting to float64):`\n",
        "\n",
        "`tf.reduce_mean(input_tensor, axis=None, keepdims=None, name=None)`\n"
      ]
    },
    {
      "cell_type": "code",
      "metadata": {
        "id": "BbLBspkio6oD"
      },
      "source": [
        "#Defining a constant\n",
        "numbers = tf.constant([[4., 5.], [7., 3.]])"
      ],
      "execution_count": null,
      "outputs": []
    },
    {
      "cell_type": "markdown",
      "metadata": {
        "id": "x8sshtQ3o6oL"
      },
      "source": [
        "#### Find the mean across all axes (use the default axis = None)"
      ]
    },
    {
      "cell_type": "code",
      "metadata": {
        "id": "dyRdtvxuo6oM",
        "outputId": "78be41cb-fd82-4cb7-9391-030cffc91d2b",
        "colab": {
          "base_uri": "https://localhost:8080/"
        }
      },
      "source": [
        "tf.reduce_mean(input_tensor=numbers)\n",
        "#( 4. + 5. + 7. + 3.)/4 = 4.75"
      ],
      "execution_count": null,
      "outputs": [
        {
          "output_type": "execute_result",
          "data": {
            "text/plain": [
              "<tf.Tensor: shape=(), dtype=float32, numpy=4.75>"
            ]
          },
          "metadata": {},
          "execution_count": 44
        }
      ]
    },
    {
      "cell_type": "code",
      "metadata": {
        "id": "aRCaaG9Bo6oR",
        "colab": {
          "base_uri": "https://localhost:8080/"
        },
        "outputId": "70d5f226-e884-45db-e40e-6b142f6a0091"
      },
      "source": [
        "tf.reduce_mean(input_tensor=numbers, axis=0) # [ (4. + 7. )/2 , (5. + 3.)/2 ] = [5.5, 4.]"
      ],
      "execution_count": null,
      "outputs": [
        {
          "output_type": "execute_result",
          "data": {
            "text/plain": [
              "<tf.Tensor: shape=(2,), dtype=float32, numpy=array([5.5, 4. ], dtype=float32)>"
            ]
          },
          "metadata": {},
          "execution_count": 45
        }
      ]
    },
    {
      "cell_type": "code",
      "metadata": {
        "id": "OHCCfX2Qo6oa",
        "outputId": "0cc26195-e2c6-47cb-caf9-7e2148fb4a9d",
        "colab": {
          "base_uri": "https://localhost:8080/"
        }
      },
      "source": [
        "tf.reduce_mean(input_tensor=numbers, axis=0, keepdims=True)"
      ],
      "execution_count": null,
      "outputs": [
        {
          "output_type": "execute_result",
          "data": {
            "text/plain": [
              "<tf.Tensor: shape=(1, 2), dtype=float32, numpy=array([[5.5, 4. ]], dtype=float32)>"
            ]
          },
          "metadata": {},
          "execution_count": 46
        }
      ]
    },
    {
      "cell_type": "code",
      "metadata": {
        "id": "AD9TgF8Xo6oh",
        "colab": {
          "base_uri": "https://localhost:8080/"
        },
        "outputId": "e2f9ed06-ecb6-4f65-9316-050ceb566391"
      },
      "source": [
        "tf.reduce_mean(input_tensor=numbers, axis=1) # [ (4. + 5. )/2 , (7. + 3. )/2] = [4.5, 5]"
      ],
      "execution_count": null,
      "outputs": [
        {
          "output_type": "execute_result",
          "data": {
            "text/plain": [
              "<tf.Tensor: shape=(2,), dtype=float32, numpy=array([4.5, 5. ], dtype=float32)>"
            ]
          },
          "metadata": {},
          "execution_count": 47
        }
      ]
    },
    {
      "cell_type": "code",
      "metadata": {
        "id": "TT1AhsW0o6on",
        "outputId": "920fe8ec-91cc-4dce-9f36-2ff327c076d0",
        "colab": {
          "base_uri": "https://localhost:8080/"
        }
      },
      "source": [
        "tf.reduce_mean(input_tensor=numbers, axis=1, keepdims=True)"
      ],
      "execution_count": null,
      "outputs": [
        {
          "output_type": "execute_result",
          "data": {
            "text/plain": [
              "<tf.Tensor: shape=(2, 1), dtype=float32, numpy=\n",
              "array([[4.5],\n",
              "       [5. ]], dtype=float32)>"
            ]
          },
          "metadata": {},
          "execution_count": 48
        }
      ]
    },
    {
      "cell_type": "code",
      "metadata": {
        "id": "a3kRyZ0Oo6os",
        "colab": {
          "base_uri": "https://localhost:8080/"
        },
        "outputId": "5522edf2-acd1-4d9c-d935-830238db9d5a"
      },
      "source": [
        "tf.random.normal(shape = (3,2), mean=10, stddev=2, dtype=tf.float32, seed=None, name=None)\n",
        "ran = tf.random.normal(shape = (3,2), mean=10.0, stddev=2.0)\n",
        "print(ran)"
      ],
      "execution_count": null,
      "outputs": [
        {
          "output_type": "stream",
          "name": "stdout",
          "text": [
            "tf.Tensor(\n",
            "[[11.012381   9.820841 ]\n",
            " [11.514592  11.424604 ]\n",
            " [ 8.9686985  7.321087 ]], shape=(3, 2), dtype=float32)\n"
          ]
        }
      ]
    },
    {
      "cell_type": "code",
      "metadata": {
        "id": "5-efPKueo6ox",
        "outputId": "16ae8467-2d2f-4346-9ed5-7507886e91e7",
        "colab": {
          "base_uri": "https://localhost:8080/"
        }
      },
      "source": [
        "tf.random.uniform(shape = (2,4), minval=0, maxval=None, dtype=tf.float32, seed=None, name=None)"
      ],
      "execution_count": null,
      "outputs": [
        {
          "output_type": "execute_result",
          "data": {
            "text/plain": [
              "<tf.Tensor: shape=(2, 4), dtype=float32, numpy=\n",
              "array([[0.69793105, 0.12818623, 0.36479974, 0.6948261 ],\n",
              "       [0.99294233, 0.607391  , 0.13492548, 0.45762825]], dtype=float32)>"
            ]
          },
          "metadata": {},
          "execution_count": 50
        }
      ]
    },
    {
      "cell_type": "markdown",
      "metadata": {
        "id": "JZI56FtIo6o3"
      },
      "source": [
        "#### Setting the seed"
      ]
    },
    {
      "cell_type": "code",
      "metadata": {
        "id": "pMSRdOoxo6o4",
        "outputId": "ffc8a2a6-9c04-4a30-8105-7926b62ba350",
        "colab": {
          "base_uri": "https://localhost:8080/"
        }
      },
      "source": [
        "tf.random.set_seed(11)\n",
        "ran1 = tf.random.uniform(shape = (2,2), maxval=10, dtype = tf.int32)\n",
        "ran2 = tf.random.uniform(shape = (2,2), maxval=10, dtype = tf.int32)\n",
        "print(ran1) #Call 1\n",
        "print(ran2)"
      ],
      "execution_count": null,
      "outputs": [
        {
          "output_type": "stream",
          "name": "stdout",
          "text": [
            "tf.Tensor(\n",
            "[[4 6]\n",
            " [5 2]], shape=(2, 2), dtype=int32)\n",
            "tf.Tensor(\n",
            "[[9 7]\n",
            " [9 4]], shape=(2, 2), dtype=int32)\n"
          ]
        }
      ]
    },
    {
      "cell_type": "code",
      "metadata": {
        "id": "0kRLOtcbo6o9",
        "outputId": "57ba4365-ac78-44bd-9bfc-148445f639cf",
        "colab": {
          "base_uri": "https://localhost:8080/"
        }
      },
      "source": [
        "tf.random.set_seed(11) #same seed\n",
        "ran1 = tf.random.uniform(shape = (2,2), maxval=10, dtype = tf.int32)\n",
        "ran2 = tf.random.uniform(shape = (2,2), maxval=10, dtype = tf.int32)\n",
        "print(ran1) #Call 2\n",
        "print(ran2)"
      ],
      "execution_count": null,
      "outputs": [
        {
          "output_type": "stream",
          "name": "stdout",
          "text": [
            "tf.Tensor(\n",
            "[[4 6]\n",
            " [5 2]], shape=(2, 2), dtype=int32)\n",
            "tf.Tensor(\n",
            "[[9 7]\n",
            " [9 4]], shape=(2, 2), dtype=int32)\n"
          ]
        }
      ]
    },
    {
      "cell_type": "code",
      "metadata": {
        "id": "jJTd5UR9o6pC",
        "outputId": "5115aa79-a023-4c5a-8e55-a6d64d59221e",
        "colab": {
          "base_uri": "https://localhost:8080/"
        }
      },
      "source": [
        "dice1 = tf.Variable(tf.random.uniform([10, 1], minval=1, maxval=7, dtype=tf.int32))\n",
        "dice2 = tf.Variable(tf.random.uniform([10, 1], minval=1, maxval=7, dtype=tf.int32))\n",
        "# We may add dice1 and dice2 since they share the same shape and size.\n",
        "dice_sum = dice1 + dice2\n",
        "# We've got three separate 10x1 matrices. To produce a single\n",
        "# 10x3 matrix, we'll concatenate them along dimension 1.\n",
        "resulting_matrix = tf.concat(values=[dice1, dice2, dice_sum], axis=1)\n",
        "print(resulting_matrix)"
      ],
      "execution_count": null,
      "outputs": [
        {
          "output_type": "stream",
          "name": "stdout",
          "text": [
            "tf.Tensor(\n",
            "[[ 5  5 10]\n",
            " [ 4  3  7]\n",
            " [ 5  3  8]\n",
            " [ 3  3  6]\n",
            " [ 1  4  5]\n",
            " [ 4  1  5]\n",
            " [ 5  1  6]\n",
            " [ 6  4 10]\n",
            " [ 3  3  6]\n",
            " [ 2  3  5]], shape=(10, 3), dtype=int32)\n"
          ]
        }
      ]
    },
    {
      "cell_type": "code",
      "metadata": {
        "id": "jobaZbi9o6pF",
        "outputId": "8ac4295f-2241-4006-cbde-5b79fe169077",
        "colab": {
          "base_uri": "https://localhost:8080/"
        }
      },
      "source": [
        "# 1-D tensor\n",
        "t5 = tf.constant([2, 11, 5, 42, 7, 19, -6, -11, 29])\n",
        "print(t5)\n",
        "\n",
        "\n",
        "i = tf.argmax(input=t5)\n",
        "print('index of max; ', i)\n",
        "print('Max element: ',t5[i].numpy())\n",
        "\n",
        "\n",
        "i = tf.argmin(input=t5,axis=0).numpy()\n",
        "print('index of min: ', i)\n",
        "print('Min element: ',t5[i].numpy())\n",
        "\n",
        "\n",
        "t6 = tf.reshape(t5, [3,3])\n",
        "print(t6)\n",
        "\n",
        "\n",
        "i = tf.argmax(input=t6,axis=0).numpy() # max arg down rows\n",
        "print('indices of max down rows; ', i)\n",
        "\n",
        "i = tf.argmin(input=t6,axis=0).numpy() # min arg down rows\n",
        "print('indices of min down rows ; ',i)\n",
        "print(t6)\n",
        "\n",
        "i = tf.argmax(input=t6,axis=1).numpy() # max arg across cols\n",
        "print('indices of max across cols: ',i)\n",
        "\n",
        "i = tf.argmin(input=t6,axis=1).numpy() # min arg across cols\n",
        "print('indices of min across cols: ',i)\n"
      ],
      "execution_count": null,
      "outputs": [
        {
          "output_type": "stream",
          "name": "stdout",
          "text": [
            "tf.Tensor([  2  11   5  42   7  19  -6 -11  29], shape=(9,), dtype=int32)\n",
            "index of max;  tf.Tensor(3, shape=(), dtype=int64)\n",
            "Max element:  42\n",
            "index of min:  7\n",
            "Min element:  -11\n",
            "tf.Tensor(\n",
            "[[  2  11   5]\n",
            " [ 42   7  19]\n",
            " [ -6 -11  29]], shape=(3, 3), dtype=int32)\n",
            "indices of max down rows;  [1 0 2]\n",
            "indices of min down rows ;  [2 2 0]\n",
            "tf.Tensor(\n",
            "[[  2  11   5]\n",
            " [ 42   7  19]\n",
            " [ -6 -11  29]], shape=(3, 3), dtype=int32)\n",
            "indices of max across cols:  [1 0 2]\n",
            "indices of min across cols:  [0 1 1]\n"
          ]
        }
      ]
    },
    {
      "cell_type": "code",
      "metadata": {
        "id": "HkF2G1dUo6pI",
        "outputId": "bf72b99d-b05c-462e-e8ce-37ab707da373",
        "colab": {
          "base_uri": "https://localhost:8080/"
        }
      },
      "source": [
        "variable = tf.Variable([[1,3,5,7],[11,13,17,19]])\n",
        "checkpoint= tf.train.Checkpoint(var=variable)\n",
        "save_path = checkpoint.save('./vars')\n",
        "variable.assign([[0,0,0,0],[0,0,0,0]])\n",
        "variable\n",
        "checkpoint.restore(save_path)\n",
        "print(variable)"
      ],
      "execution_count": null,
      "outputs": [
        {
          "output_type": "stream",
          "name": "stdout",
          "text": [
            "<tf.Variable 'Variable:0' shape=(2, 4) dtype=int32, numpy=\n",
            "array([[ 1,  3,  5,  7],\n",
            "       [11, 13, 17, 19]], dtype=int32)>\n"
          ]
        }
      ]
    },
    {
      "cell_type": "code",
      "metadata": {
        "id": "zNLkHGwwo6pN",
        "outputId": "c04fc844-60a4-4aed-8418-bbb169114a97",
        "colab": {
          "base_uri": "https://localhost:8080/"
        }
      },
      "source": [
        "a = tf.random.normal(shape=(2,2))\n",
        "b = tf.random.normal(shape=(2,2))\n",
        "\n",
        "with tf.GradientTape() as tape:\n",
        "    tape.watch(a)\n",
        "    c = tf.sqrt(tf.square(a)+tf.square(b))\n",
        "    dc_da = tape.gradient(c,a)\n",
        "    print(dc_da)"
      ],
      "execution_count": null,
      "outputs": [
        {
          "output_type": "stream",
          "name": "stdout",
          "text": [
            "tf.Tensor(\n",
            "[[-0.469929    0.89920384]\n",
            " [-0.66446555 -0.7976701 ]], shape=(2, 2), dtype=float32)\n"
          ]
        }
      ]
    },
    {
      "cell_type": "markdown",
      "metadata": {
        "id": "uuK0cC3xo6pQ"
      },
      "source": [
        ">For all variables, the calculation is tracked by default and used to find the gradient, so do not `usetape.watch()`"
      ]
    },
    {
      "cell_type": "code",
      "metadata": {
        "id": "SqZj7hRYo6pQ",
        "outputId": "2b6f6149-1726-4ee0-c5d5-efbbfb2efcb5",
        "colab": {
          "base_uri": "https://localhost:8080/"
        }
      },
      "source": [
        "a = tf.Variable(a)\n",
        "with tf.GradientTape() as tape:\n",
        "    c = tf.sqrt(tf.square(a)+tf.square(b))\n",
        "    dc_da = tape.gradient(c,a)\n",
        "    print(dc_da)"
      ],
      "execution_count": null,
      "outputs": [
        {
          "output_type": "stream",
          "name": "stdout",
          "text": [
            "tf.Tensor(\n",
            "[[-0.469929    0.89920384]\n",
            " [-0.66446555 -0.7976701 ]], shape=(2, 2), dtype=float32)\n"
          ]
        }
      ]
    },
    {
      "cell_type": "code",
      "metadata": {
        "id": "k1Ow5DUTo6pS",
        "outputId": "09b1ace0-4b52-47b2-8438-6c996f96f569",
        "colab": {
          "base_uri": "https://localhost:8080/"
        }
      },
      "source": [
        "with tf.GradientTape() as outer_tape:\n",
        "    with tf.GradientTape() as tape:\n",
        "        c = tf.sqrt(tf.square(a)+tf.square(b))\n",
        "        dc_da = tape.gradient(c,a)\n",
        "    d2c_d2a = outer_tape.gradient(dc_da,a)\n",
        "    print(d2c_d2a)"
      ],
      "execution_count": null,
      "outputs": [
        {
          "output_type": "stream",
          "name": "stdout",
          "text": [
            "tf.Tensor(\n",
            "[[0.4264985  0.6867533 ]\n",
            " [0.44663432 0.50159544]], shape=(2, 2), dtype=float32)\n"
          ]
        }
      ]
    },
    {
      "cell_type": "code",
      "metadata": {
        "id": "7pQYV83Oo6pj",
        "colab": {
          "base_uri": "https://localhost:8080/"
        },
        "outputId": "a3d5a2e6-513b-43d2-d7f1-e1851d86c9c7"
      },
      "source": [
        "mnist = tf.keras.datasets.mnist\n",
        "(train_x,train_y), (test_x, test_y) = mnist.load_data()"
      ],
      "execution_count": null,
      "outputs": [
        {
          "output_type": "stream",
          "name": "stdout",
          "text": [
            "Downloading data from https://storage.googleapis.com/tensorflow/tf-keras-datasets/mnist.npz\n",
            "11490434/11490434 [==============================] - 1s 0us/step\n"
          ]
        }
      ]
    },
    {
      "cell_type": "code",
      "metadata": {
        "id": "v8gqtu0ao6pm"
      },
      "source": [
        "epochs=10\n",
        "batch_size = 32 # 32 is default in fit method but specify anyway"
      ],
      "execution_count": null,
      "outputs": []
    },
    {
      "cell_type": "markdown",
      "metadata": {
        "id": "x-Q7uhkno6pq"
      },
      "source": [
        ">Next, normalize all the data points (x) to be in the float range zero to one, and of the float32 type.\n",
        "\n",
        ">Also, cast the labels (y) to int64, as required:"
      ]
    },
    {
      "cell_type": "code",
      "metadata": {
        "id": "bqPK-As1o6pr"
      },
      "source": [
        "train_x, test_x = tf.cast(train_x/255.0, tf.float32), tf.cast(test_x/255.0, tf.float32)\n",
        "train_y, test_y = tf.cast(train_y,tf.int64),tf.cast(test_y,tf.int64)"
      ],
      "execution_count": null,
      "outputs": []
    },
    {
      "cell_type": "markdown",
      "metadata": {
        "id": "9NZphi8Lo6pt"
      },
      "source": [
        "#### Building the Architecture"
      ]
    },
    {
      "cell_type": "code",
      "metadata": {
        "id": "GuNKNPYio6pu"
      },
      "source": [
        "mnistmodel1 = tf.keras.models.Sequential([\n",
        "tf.keras.layers.Flatten(),\n",
        "tf.keras.layers.Dense(512,activation=tf.nn.relu),\n",
        "tf.keras.layers.Dropout(0.2),\n",
        "tf.keras.layers.Dense(10,activation=tf.nn.softmax)\n",
        "])\n"
      ],
      "execution_count": null,
      "outputs": []
    },
    {
      "cell_type": "markdown",
      "metadata": {
        "id": "y2o8p9sVo6pw"
      },
      "source": [
        "#### Compiling the model"
      ]
    },
    {
      "cell_type": "code",
      "metadata": {
        "id": "QgoZntmAo6px"
      },
      "source": [
        "optimiser = tf.keras.optimizers.Adam()\n",
        "mnistmodel1.compile (optimizer= optimiser, loss='sparse_categorical_crossentropy', metrics = ['accuracy'])"
      ],
      "execution_count": null,
      "outputs": []
    },
    {
      "cell_type": "markdown",
      "metadata": {
        "id": "_wS8f11Fo6p0"
      },
      "source": [
        "#### Fitting the model"
      ]
    },
    {
      "cell_type": "code",
      "metadata": {
        "id": "6PhgsrZbo6p2",
        "outputId": "8243fe17-c301-411e-84d7-b62494d3c7c9",
        "colab": {
          "base_uri": "https://localhost:8080/"
        }
      },
      "source": [
        "mnistmodel1.fit(train_x, train_y, batch_size=32, epochs=5)"
      ],
      "execution_count": null,
      "outputs": [
        {
          "output_type": "stream",
          "name": "stdout",
          "text": [
            "Epoch 1/5\n",
            "1875/1875 [==============================] - 10s 3ms/step - loss: 0.2206 - accuracy: 0.9344\n",
            "Epoch 2/5\n",
            "1875/1875 [==============================] - 5s 3ms/step - loss: 0.0978 - accuracy: 0.9704\n",
            "Epoch 3/5\n",
            "1875/1875 [==============================] - 6s 3ms/step - loss: 0.0709 - accuracy: 0.9771\n",
            "Epoch 4/5\n",
            "1875/1875 [==============================] - 6s 3ms/step - loss: 0.0540 - accuracy: 0.9826\n",
            "Epoch 5/5\n",
            "1875/1875 [==============================] - 7s 3ms/step - loss: 0.0439 - accuracy: 0.9860\n"
          ]
        },
        {
          "output_type": "execute_result",
          "data": {
            "text/plain": [
              "<keras.callbacks.History at 0x7ffa98fbba30>"
            ]
          },
          "metadata": {},
          "execution_count": 65
        }
      ]
    },
    {
      "cell_type": "markdown",
      "metadata": {
        "id": "vcP9j-Zzo6p6"
      },
      "source": [
        "#### Evaluate the mnistmodel1"
      ]
    },
    {
      "cell_type": "code",
      "metadata": {
        "id": "MxNtyQdJo6p6",
        "outputId": "9ba42a9a-011a-4dc1-fd91-3e11b58f048c",
        "colab": {
          "base_uri": "https://localhost:8080/"
        }
      },
      "source": [
        "mnistmodel1.evaluate(test_x, test_y)"
      ],
      "execution_count": null,
      "outputs": [
        {
          "output_type": "stream",
          "name": "stdout",
          "text": [
            "313/313 [==============================] - 1s 2ms/step - loss: 0.0629 - accuracy: 0.9801\n"
          ]
        },
        {
          "output_type": "execute_result",
          "data": {
            "text/plain": [
              "[0.06294650584459305, 0.9800999760627747]"
            ]
          },
          "metadata": {},
          "execution_count": 66
        }
      ]
    },
    {
      "cell_type": "markdown",
      "metadata": {
        "id": "cDfS3h5Co6p_"
      },
      "source": [
        ">This represents a loss of 0.09 and an accuracy of 0.9801 on the test data.\n",
        "\n",
        ">An accuracy of 0.98 means that out of 100 test data points, 98 were, on average, correctly identified by the model."
      ]
    },
    {
      "cell_type": "markdown",
      "source": [
        "The second way to create a Sequential model\n",
        "The alternative to passing a list of layers to the Sequential model's constructor is to use the add method, as follows, for the same architecture:\n",
        "\n"
      ],
      "metadata": {
        "id": "a02pSWvDol7D"
      }
    },
    {
      "cell_type": "markdown",
      "metadata": {
        "id": "jdEjqOoUo6qC"
      },
      "source": [
        "#### Building the Architecture & Compiling"
      ]
    },
    {
      "cell_type": "code",
      "metadata": {
        "id": "4sILJ-Yho6qC"
      },
      "source": [
        "mnistmodel2 = tf.keras.models.Sequential();\n",
        "mnistmodel2.add(tf.keras.layers.Flatten())\n",
        "mnistmodel2.add(tf.keras.layers.Dense(512, activation='relu'))\n",
        "mnistmodel2.add(tf.keras.layers.Dropout(0.2))\n",
        "mnistmodel2.add(tf.keras.layers.Dense(10,activation=tf.nn.softmax))\n",
        "mnistmodel2.compile (optimizer= tf.keras.optimizers.Adam(), loss='sparse_categorical_crossentropy',metrics = ['accuracy'])"
      ],
      "execution_count": null,
      "outputs": []
    },
    {
      "cell_type": "markdown",
      "metadata": {
        "id": "kOfBS60do6qF"
      },
      "source": [
        "#### Fitting the mnistmodel2"
      ]
    },
    {
      "cell_type": "code",
      "metadata": {
        "id": "LT89Nv78o6qF",
        "outputId": "79c5e73c-9069-4b3a-86ac-a5febdab251e",
        "colab": {
          "base_uri": "https://localhost:8080/"
        }
      },
      "source": [
        "mnistmodel2.fit(train_x, train_y, batch_size=64, epochs=5)"
      ],
      "execution_count": null,
      "outputs": [
        {
          "output_type": "stream",
          "name": "stdout",
          "text": [
            "Epoch 1/5\n",
            "938/938 [==============================] - 4s 3ms/step - loss: 0.2436 - accuracy: 0.9301\n",
            "Epoch 2/5\n",
            "938/938 [==============================] - 5s 5ms/step - loss: 0.1042 - accuracy: 0.9691\n",
            "Epoch 3/5\n",
            "938/938 [==============================] - 5s 6ms/step - loss: 0.0721 - accuracy: 0.9780\n",
            "Epoch 4/5\n",
            "938/938 [==============================] - 5s 6ms/step - loss: 0.0536 - accuracy: 0.9831\n",
            "Epoch 5/5\n",
            "938/938 [==============================] - 3s 3ms/step - loss: 0.0433 - accuracy: 0.9866\n"
          ]
        },
        {
          "output_type": "execute_result",
          "data": {
            "text/plain": [
              "<keras.callbacks.History at 0x7ffa98508e20>"
            ]
          },
          "metadata": {},
          "execution_count": 68
        }
      ]
    },
    {
      "cell_type": "markdown",
      "metadata": {
        "id": "rFjJbRoCo6qH"
      },
      "source": [
        "#### Evaluate the mnistmodel2"
      ]
    },
    {
      "cell_type": "code",
      "metadata": {
        "id": "Vr7qos7co6qH",
        "outputId": "36f9f313-5f96-4798-e682-84651b0ad162",
        "colab": {
          "base_uri": "https://localhost:8080/"
        }
      },
      "source": [
        "mnistmodel2.evaluate(test_x, test_y)"
      ],
      "execution_count": null,
      "outputs": [
        {
          "output_type": "stream",
          "name": "stdout",
          "text": [
            "313/313 [==============================] - 1s 2ms/step - loss: 0.0640 - accuracy: 0.9790\n"
          ]
        },
        {
          "output_type": "execute_result",
          "data": {
            "text/plain": [
              "[0.06400463730096817, 0.9789999723434448]"
            ]
          },
          "metadata": {},
          "execution_count": 69
        }
      ]
    },
    {
      "cell_type": "markdown",
      "metadata": {
        "id": "ASA5H52Qo6qJ"
      },
      "source": [
        "### The Keras functional API\n",
        "\n",
        "`The functional API lets you build much more complex architectures than the simple linear stack of\n",
        "Sequential models we have seen previously. It also supports more advanced models. These models\n",
        "include multi-input and multi-output models, models with shared layers, and models with residual\n",
        "connections.`\n",
        "\n",
        "`Here is a short example, with an identical architecture to the previous two, of the use of the\n",
        "functional API.`"
      ]
    },
    {
      "cell_type": "code",
      "metadata": {
        "id": "bMARgxgGo6qJ"
      },
      "source": [
        "import tensorflow as tf\n",
        "mnist = tf.keras.datasets.mnist\n",
        "\n",
        "(train_x,train_y), (test_x, test_y) = mnist.load_data()\n",
        "\n",
        "train_x, test_x = train_x/255.0, test_x/255.0\n",
        "\n",
        "epochs=10\n"
      ],
      "execution_count": null,
      "outputs": []
    },
    {
      "cell_type": "markdown",
      "metadata": {
        "id": "OjjMg9-qo6qL"
      },
      "source": [
        "#### Building the Architecture"
      ]
    },
    {
      "cell_type": "code",
      "metadata": {
        "id": "ikSqvtono6qL"
      },
      "source": [
        "inputs = tf.keras.Input(shape=(28,28)) # Returns a 'placeholder' tensor\n",
        "x = tf.keras.layers.Flatten()(inputs)\n",
        "x = tf.keras.layers.Dense(512, activation='relu',name='d1')(x)\n",
        "x = tf.keras.layers.Dropout(0.2)(x)\n",
        "predictions = tf.keras.layers.Dense(10,activation=tf.nn.softmax, name='d2')(x)\n",
        "mnistmodel3 = tf.keras.Model(inputs=inputs, outputs=predictions)"
      ],
      "execution_count": null,
      "outputs": []
    },
    {
      "cell_type": "code",
      "metadata": {
        "id": "rD-R8yu6o6qP",
        "colab": {
          "base_uri": "https://localhost:8080/"
        },
        "outputId": "47275baa-2a07-444c-db0d-0f1d5e2cb172"
      },
      "source": [
        "optimiser = tf.keras.optimizers.Adam()\n",
        "mnistmodel3.compile (optimizer= optimiser, loss='sparse_categorical_crossentropy', metrics = ['accuracy'])\n",
        "mnistmodel3.fit(train_x, train_y, batch_size=32, epochs=epochs)"
      ],
      "execution_count": null,
      "outputs": [
        {
          "output_type": "stream",
          "name": "stdout",
          "text": [
            "Epoch 1/10\n",
            "1875/1875 [==============================] - 6s 3ms/step - loss: 0.2217 - accuracy: 0.9344\n",
            "Epoch 2/10\n",
            "1875/1875 [==============================] - 7s 4ms/step - loss: 0.0975 - accuracy: 0.9705\n",
            "Epoch 3/10\n",
            "1875/1875 [==============================] - 5s 3ms/step - loss: 0.0691 - accuracy: 0.9790\n",
            "Epoch 4/10\n",
            "1875/1875 [==============================] - 6s 3ms/step - loss: 0.0534 - accuracy: 0.9832\n",
            "Epoch 5/10\n",
            "1875/1875 [==============================] - 5s 3ms/step - loss: 0.0443 - accuracy: 0.9861\n",
            "Epoch 6/10\n",
            "1875/1875 [==============================] - 6s 3ms/step - loss: 0.0370 - accuracy: 0.9879\n",
            "Epoch 7/10\n",
            "1875/1875 [==============================] - 5s 3ms/step - loss: 0.0302 - accuracy: 0.9897\n",
            "Epoch 8/10\n",
            "1875/1875 [==============================] - 6s 3ms/step - loss: 0.0280 - accuracy: 0.9905\n",
            "Epoch 9/10\n",
            "1875/1875 [==============================] - 5s 3ms/step - loss: 0.0252 - accuracy: 0.9914\n",
            "Epoch 10/10\n",
            "1875/1875 [==============================] - 5s 3ms/step - loss: 0.0221 - accuracy: 0.9927\n"
          ]
        },
        {
          "output_type": "execute_result",
          "data": {
            "text/plain": [
              "<keras.callbacks.History at 0x7ffa98444280>"
            ]
          },
          "metadata": {},
          "execution_count": 72
        }
      ]
    },
    {
      "cell_type": "markdown",
      "metadata": {
        "id": "cekAYjZ_o6qQ"
      },
      "source": [
        "#### Evaluate the mnistmodel3"
      ]
    },
    {
      "cell_type": "code",
      "metadata": {
        "id": "ZhVVGK8Xo6qR",
        "colab": {
          "base_uri": "https://localhost:8080/"
        },
        "outputId": "9aa44c91-697d-4d09-ac40-ac6b9a17c637"
      },
      "source": [
        "mnistmodel3.evaluate(test_x, test_y)"
      ],
      "execution_count": null,
      "outputs": [
        {
          "output_type": "stream",
          "name": "stdout",
          "text": [
            "313/313 [==============================] - 1s 2ms/step - loss: 0.0767 - accuracy: 0.9799\n"
          ]
        },
        {
          "output_type": "execute_result",
          "data": {
            "text/plain": [
              "[0.0767001211643219, 0.9799000024795532]"
            ]
          },
          "metadata": {},
          "execution_count": 73
        }
      ]
    },
    {
      "cell_type": "code",
      "metadata": {
        "id": "tELglH0ro6qU"
      },
      "source": [
        "import tensorflow as tf"
      ],
      "execution_count": null,
      "outputs": []
    },
    {
      "cell_type": "code",
      "metadata": {
        "id": "Vqs-8F8Eo6qW"
      },
      "source": [
        "class MNISTModel(tf.keras.Model):\n",
        "    def __init__(self, num_classes=10):\n",
        "        super(MNISTModel, self).__init__()\n",
        "        # Define your layers here.\n",
        "        inputs = tf.keras.Input(shape=(28,28)) # Returns a placeholder tensor\n",
        "        self.x0 = tf.keras.layers.Flatten()\n",
        "        self.x1 = tf.keras.layers.Dense(512, activation='relu',name='d1')\n",
        "        self.x2 = tf.keras.layers.Dropout(0.2)\n",
        "        self.predictions = tf.keras.layers.Dense(10,activation=tf.nn.softmax, name='d2')\n",
        "\n",
        "\n",
        "    def call(self, inputs):\n",
        "    # This is where to define your forward pass\n",
        "    # using the layers previously defined in `__init__`\n",
        "        x = self.x0(inputs)\n",
        "        x = self.x1(x)\n",
        "        x = self.x2(x)\n",
        "        return self.predictions(x)"
      ],
      "execution_count": null,
      "outputs": []
    },
    {
      "cell_type": "code",
      "metadata": {
        "id": "6JUhSJI8o6qa"
      },
      "source": [
        "mnistmodel4 = MNISTModel()"
      ],
      "execution_count": null,
      "outputs": []
    },
    {
      "cell_type": "code",
      "metadata": {
        "id": "ctmLp6kzo6qe",
        "outputId": "92fbba79-1d51-45b9-b953-04859a13cb44",
        "colab": {
          "base_uri": "https://localhost:8080/"
        }
      },
      "source": [
        "batch_size = 32\n",
        "steps_per_epoch = len(train_x)//batch_size\n",
        "print(steps_per_epoch)\n",
        "mnistmodel4.compile (optimizer= tf.keras.optimizers.Adam(), loss='sparse_categorical_crossentropy',metrics = ['accuracy'])\n",
        "mnistmodel4.fit(train_x, train_y, batch_size=batch_size, epochs=epochs)"
      ],
      "execution_count": null,
      "outputs": [
        {
          "output_type": "stream",
          "name": "stdout",
          "text": [
            "1875\n",
            "Epoch 1/10\n",
            "1875/1875 [==============================] - 9s 4ms/step - loss: 0.2212 - accuracy: 0.9348\n",
            "Epoch 2/10\n",
            "1875/1875 [==============================] - 9s 5ms/step - loss: 0.0962 - accuracy: 0.9702\n",
            "Epoch 3/10\n",
            "1875/1875 [==============================] - 5s 3ms/step - loss: 0.0698 - accuracy: 0.9778\n",
            "Epoch 4/10\n",
            "1875/1875 [==============================] - 6s 3ms/step - loss: 0.0521 - accuracy: 0.9830\n",
            "Epoch 5/10\n",
            "1875/1875 [==============================] - 5s 3ms/step - loss: 0.0418 - accuracy: 0.9865\n",
            "Epoch 6/10\n",
            "1875/1875 [==============================] - 6s 3ms/step - loss: 0.0354 - accuracy: 0.9882\n",
            "Epoch 7/10\n",
            "1875/1875 [==============================] - 5s 3ms/step - loss: 0.0299 - accuracy: 0.9903\n",
            "Epoch 8/10\n",
            "1875/1875 [==============================] - 5s 3ms/step - loss: 0.0286 - accuracy: 0.9907\n",
            "Epoch 9/10\n",
            "1875/1875 [==============================] - 6s 3ms/step - loss: 0.0255 - accuracy: 0.9911\n",
            "Epoch 10/10\n",
            "1875/1875 [==============================] - 5s 3ms/step - loss: 0.0208 - accuracy: 0.9928\n"
          ]
        },
        {
          "output_type": "execute_result",
          "data": {
            "text/plain": [
              "<keras.callbacks.History at 0x7ffa980f5d20>"
            ]
          },
          "metadata": {},
          "execution_count": 78
        }
      ]
    },
    {
      "cell_type": "code",
      "metadata": {
        "id": "LTdj5Tbmo6qm",
        "colab": {
          "base_uri": "https://localhost:8080/"
        },
        "outputId": "fa8e4835-a61c-4b9f-dcc1-993d315b9442"
      },
      "source": [
        "mnistmodel4.evaluate(test_x, test_y)"
      ],
      "execution_count": null,
      "outputs": [
        {
          "output_type": "stream",
          "name": "stdout",
          "text": [
            "313/313 [==============================] - 1s 2ms/step - loss: 0.0768 - accuracy: 0.9815\n"
          ]
        },
        {
          "output_type": "execute_result",
          "data": {
            "text/plain": [
              "[0.07678413391113281, 0.9815000295639038]"
            ]
          },
          "metadata": {},
          "execution_count": 79
        }
      ]
    }
  ]
}